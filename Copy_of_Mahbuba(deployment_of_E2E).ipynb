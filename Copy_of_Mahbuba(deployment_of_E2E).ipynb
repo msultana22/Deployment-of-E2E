{
  "nbformat": 4,
  "nbformat_minor": 0,
  "metadata": {
    "colab": {
      "name": "Copy of Mahbuba(deployment of E2E).ipynb",
      "private_outputs": true,
      "provenance": [],
      "collapsed_sections": [],
      "authorship_tag": "ABX9TyPDI5CaiC3sIovaOvQ6chzz",
      "include_colab_link": true
    },
    "kernelspec": {
      "name": "python3",
      "display_name": "Python 3"
    },
    "language_info": {
      "name": "python"
    }
  },
  "cells": [
    {
      "cell_type": "markdown",
      "metadata": {
        "id": "view-in-github",
        "colab_type": "text"
      },
      "source": [
        "<a href=\"https://colab.research.google.com/github/msultana22/Deployment-of-E2E/blob/main/Copy_of_Mahbuba(deployment_of_E2E).ipynb\" target=\"_parent\"><img src=\"https://colab.research.google.com/assets/colab-badge.svg\" alt=\"Open In Colab\"/></a>"
      ]
    },
    {
      "cell_type": "code",
      "source": [
        "import pandas as pd \n",
        "!pip install sweetviz\n",
        "import sweetviz\n",
        "import sweetviz as sv\n",
        "!pip install pandas_profiling"
      ],
      "metadata": {
        "id": "qMjg5cvRMGuF"
      },
      "execution_count": null,
      "outputs": []
    },
    {
      "cell_type": "code",
      "source": [
        "import matplotlib.pyplot as plt\n",
        "import seaborn as sns"
      ],
      "metadata": {
        "id": "G2FAkKwzQ4jm"
      },
      "execution_count": null,
      "outputs": []
    },
    {
      "cell_type": "code",
      "metadata": {
        "id": "0niIK-QaB8eQ"
      },
      "source": [
        "df_hospitalinfo = pd.read_csv('https://raw.githubusercontent.com/hantswilliams/AHI_DataSci_507/main/Deployment_Streamlit/hospital_info.csv')\n",
        "df_outpatient = pd.read_csv('https://raw.githubusercontent.com/hantswilliams/AHI_DataSci_507/main/Deployment_Streamlit/outpatient_2015.csv')\n",
        "df_inpatient = pd.read_csv('https://raw.githubusercontent.com/hantswilliams/AHI_DataSci_507/main/Deployment_Streamlit/inpatient_2015.csv')"
      ],
      "execution_count": null,
      "outputs": []
    },
    {
      "cell_type": "code",
      "source": [
        "print('HospitalInfoLength: ', len(hospital_info))\n",
        "print('OutpatientLength: ', len(outpatient2015))\n",
        "print('InpatientLength: ', len(inpatient2015))"
      ],
      "metadata": {
        "id": "-lgSJoXb_IoM"
      },
      "execution_count": null,
      "outputs": []
    },
    {
      "cell_type": "markdown",
      "source": [
        "Loading df_hospitalinfo "
      ],
      "metadata": {
        "id": "WGsw5hrpTLUO"
      }
    },
    {
      "cell_type": "code",
      "source": [
        "df_hospitalinfo"
      ],
      "metadata": {
        "id": "YNk_dxg_TZ9S"
      },
      "execution_count": null,
      "outputs": []
    },
    {
      "cell_type": "markdown",
      "source": [
        "Cleaning of df_hospitalinfo"
      ],
      "metadata": {
        "id": "X09w7QB3Tsi5"
      }
    },
    {
      "cell_type": "code",
      "source": [
        "!pip install pyjanitor"
      ],
      "metadata": {
        "id": "65qFEDl7TzYM"
      },
      "execution_count": null,
      "outputs": []
    },
    {
      "cell_type": "code",
      "source": [
        "from janitor import clean_names, remove_empty"
      ],
      "metadata": {
        "id": "Xlo6nmbzUFVB"
      },
      "execution_count": null,
      "outputs": []
    },
    {
      "cell_type": "code",
      "source": [
        "df_hospital = pd.DataFrame.from_dict(df_hospitalinfo)\n",
        "df = clean_names(df_hospitalinfo)\n",
        "df = remove_empty(df_hospitalinfo)"
      ],
      "metadata": {
        "id": "bOjzLI1PUf4c"
      },
      "execution_count": null,
      "outputs": []
    },
    {
      "cell_type": "code",
      "source": [
        "display(df_hospitalinfo)"
      ],
      "metadata": {
        "id": "VWyIhg8AVNc1"
      },
      "execution_count": null,
      "outputs": []
    },
    {
      "cell_type": "code",
      "source": [
        "Total_ownership = pd.value_counts(df_hospitalinfo[hospital_ownership])\n",
        "Total_ownership = pd.DataFrame(Total_membership)\n",
        "Total_ownership = Total_ownership.reset_index()"
      ],
      "metadata": {
        "id": "bBY12x_Fy9_0"
      },
      "execution_count": null,
      "outputs": []
    },
    {
      "cell_type": "code",
      "source": [
        "Total_ownership.column = ['hospital_ownership','state']"
      ],
      "metadata": {
        "id": "PHHSZ8A50Kc5"
      },
      "execution_count": null,
      "outputs": []
    },
    {
      "cell_type": "code",
      "source": [
        "sb_hospital = df_hospital[df_hospital['provider_id']] == \n",
        "sb_outpatient = df_outpatient[df_outpatient['provider_id']] == \n",
        "sb_inpatient = df_inpatient[df_inpatient['provider_id']] == \n"
      ],
      "metadata": {
        "id": "xIeK0dr_hxA5"
      },
      "execution_count": null,
      "outputs": []
    },
    {
      "cell_type": "markdown",
      "source": [
        "Marged datasets"
      ],
      "metadata": {
        "id": "2qwRPrOEV7pW"
      }
    },
    {
      "cell_type": "code",
      "source": [
        "import os\n",
        "import glob\n",
        "import pandas as pd"
      ],
      "metadata": {
        "id": "cwvBta1VVzHU"
      },
      "execution_count": null,
      "outputs": []
    },
    {
      "cell_type": "code",
      "source": [
        "# df_hospitalinfo\n",
        "# df_outpatientlength\n",
        "# df_inpatientlength\n",
        "\n",
        "print('dfHos:', len (df_hospitalinfo))\n",
        "print('dfOut:', len(df_outpatient))"
      ],
      "metadata": {
        "id": "FjiVMEvzWLJV"
      },
      "execution_count": null,
      "outputs": []
    },
    {
      "cell_type": "code",
      "source": [
        "df_hospitalinfo['provider_id'] = df_hospitalinfo['provider_id'].astype(str)\n",
        "df_hospitalinfo['provider_outpatient'] = df_hospitalinfo['provider_id'].astype(str)"
      ],
      "metadata": {
        "id": "P0USBPxdbE5e"
      },
      "execution_count": null,
      "outputs": []
    },
    {
      "cell_type": "code",
      "source": [
        "df_outpatient.head(10)"
      ],
      "metadata": {
        "id": "qKwPdhY7coHB"
      },
      "execution_count": null,
      "outputs": []
    },
    {
      "cell_type": "code",
      "source": [
        "df_merged = df_outpatient.merge(df_hospitalinfo, how='left', left_on='provider_id', right_on='provider_id')"
      ],
      "metadata": {
        "id": "dqGNVWV4bbY1"
      },
      "execution_count": null,
      "outputs": []
    },
    {
      "cell_type": "code",
      "source": [
        "df_merged_clean = df_merged(df_merged['hospital_name'].notna()]."
      ],
      "metadata": {
        "id": "61x8Uaz3eDfu"
      },
      "execution_count": null,
      "outputs": []
    },
    {
      "cell_type": "code",
      "source": [
        "df_merged_clean_sample(10)"
      ],
      "metadata": {
        "id": "xjZrNT_qgSl0"
      },
      "execution_count": null,
      "outputs": []
    },
    {
      "cell_type": "code",
      "source": [
        "df_merged_clean_CEMC = df_merged_clean['hospital_info'] == 'CAROLINA EAST MEDICAL CENTER']\n",
        "df_merged_clean_CEMC"
      ],
      "metadata": {
        "id": "RyaMABlFo4Ii"
      },
      "execution_count": null,
      "outputs": []
    },
    {
      "cell_type": "code",
      "source": [
        "pd.concat(\n",
        "    p(pd.read_csv, ['https://raw.githubusercontent.com/hantswilliams/AHI_DataSci_507/main/Deployment_Streamlit/hospital_info.csv', 'https://raw.githubusercontent.com/hantswilliams/AHI_DataSci_507/main/Deployment_Streamlit/outpatient_2015.csv', 'https://raw.githubusercontent.com/hantswilliams/AHI_DataSci_507/main/Deployment_Streamlit/inpatient_2015.csv'])"
      ],
      "metadata": {
        "id": "Yy_H6aHaWriK"
      },
      "execution_count": null,
      "outputs": []
    },
    {
      "cell_type": "code",
      "source": [
        "final_df_comparison_pivot(index='provider_name', column'apc',volume='average-estimated_submitted_charges')"
      ],
      "metadata": {
        "id": "32DCglaWrC9H"
      },
      "execution_count": null,
      "outputs": []
    },
    {
      "cell_type": "code",
      "source": [
        "final_df_comparison.sample(10)"
      ],
      "metadata": {
        "id": "Dna7fH7supe8"
      },
      "execution_count": null,
      "outputs": []
    },
    {
      "cell_type": "code",
      "source": [
        "final_df_comparison = pd.concat([df_merged_clean_CEMC, df_merged_clean_SB])"
      ],
      "metadata": {
        "id": "wiw62xNat-J8"
      },
      "execution_count": null,
      "outputs": []
    },
    {
      "cell_type": "code",
      "source": [
        "final_df_comparison_pivot['provider_name','hospital_ownership'], column='apc',volume='average_estimated_submitted_charges']"
      ],
      "metadata": {
        "id": "Zgs3gWi6vCN0"
      },
      "execution_count": null,
      "outputs": []
    }
  ]
}